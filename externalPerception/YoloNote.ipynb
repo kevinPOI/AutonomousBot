{
 "cells": [
  {
   "cell_type": "code",
   "execution_count": 9,
   "metadata": {},
   "outputs": [],
   "source": [
    "from ultralytics import YOLO\n",
    "from roboflow import Roboflow\n",
    "rf = Roboflow(api_key=\"ysXcOkuwq46DKP58MBEg\")\n",
    "project = rf.workspace(\"test-5ev0m\").project(\"house-robot-segmentation\")\n",
    "version = project.version(1)\n",
    "dataset = version.download(\"yolov8\")\n",
    "model = YOLO(\"yolov8m-seg.pt\")       \n",
    "results = model.train(data=\"House-robot-segmentation-1/data.yaml\", imgsz=640, batch=8, epochs=20, plots=True)         "
   ]
  },
  {
   "cell_type": "code",
   "execution_count": null,
   "metadata": {},
   "outputs": [],
   "source": [
    "\n",
    "from roboflow import Roboflow\n",
    "from ultralytics import YOLO\n",
    "rf = Roboflow(api_key=\"ysXcOkuwq46DKP58MBEg\")\n",
    "project = rf.workspace(\"test-5ev0m\").project(\"brick-detection-original-view\")\n",
    "version = project.version(1)\n",
    "dataset = version.download(\"yolov8\")\n",
    "model = YOLO(\"yolov8s.pt\")  # load a pretrained model. change this to the model you want to use, n, s, l etc. (only ending)\n",
    "save_dir = (r\"C:\\Users\\kevin\\OneDrive\\Documents\\Academics\\24summer/autonomousBot/externalPerception\")\n",
    "# Train the model\n",
    "\"House-robot-segmentation-1/data.yaml\"\n",
    "results = model.train(data=\"robotdata.yaml\", imgsz=480, batch=8, epochs=20, plots=True, save_dir = save_dir)"
   ]
  },
  {
   "cell_type": "code",
   "execution_count": null,
   "metadata": {},
   "outputs": [],
   "source": [
    "\n",
    "\n",
    "from ultralytics import YOLO\n",
    "\n",
    "\n",
    "# from roboflow import Roboflow\n",
    "# rf = Roboflow(api_key=\"ysXcOkuwq46DKP58MBEg\")\n",
    "# project = rf.workspace(\"test-5ev0m\").project(\"cozmocam\")\n",
    "# version = project.version(1)\n",
    "# dataset = version.download(\"yolov8\")\n",
    "\n",
    "\n",
    "from roboflow import Roboflow\n",
    "rf = Roboflow(api_key=\"ysXcOkuwq46DKP58MBEg\")\n",
    "project = rf.workspace(\"test-5ev0m\").project(\"robot_detection-xbplb\")\n",
    "version = project.version(3)\n",
    "dataset = version.download(\"yolov8\")\n",
    "\n",
    "\n",
    "\n",
    "\n",
    "model = YOLO(\"yolov8s.pt\")  # load a pretrained model. change this to the model you want to use, n, s, l etc. (only ending)\n",
    "save_dir = (r\"C:\\Users\\kevin\\OneDrive\\Documents\\Academics\\24summer/autonomousBot/externalPerception\")\n",
    "# Train the model\n",
    "results = model.train(data=\"robotdata.yaml\", imgsz=480, batch=8, epochs=20, plots=True, save_dir = save_dir)"
   ]
  },
  {
   "cell_type": "code",
   "execution_count": null,
   "metadata": {},
   "outputs": [],
   "source": [
    "from ultralytics import YOLO\n",
    "from PIL import Image\n",
    "import cv2\n",
    "import time\n",
    "import numpy as np\n",
    "\n",
    "# model = YOLO(\"yolov8n.pt\")\n",
    "model = YOLO(\"robotv3_10e.pt\")\n",
    "camera = cv2.VideoCapture(\"nhrl_sample2.mp4\")\n",
    "for i in range(1300):\n",
    "    \n",
    "    ret, og_frame = camera.read()\n",
    "    if(i > 550):\n",
    "        t0 = time.perf_counter()\n",
    "        results = model.predict(og_frame, show = True, verbose = False)\n",
    "        print(\"infer time:\", time.perf_counter() - t0)"
   ]
  }
 ],
 "metadata": {
  "kernelspec": {
   "display_name": "Python 3",
   "language": "python",
   "name": "python3"
  },
  "language_info": {
   "codemirror_mode": {
    "name": "ipython",
    "version": 3
   },
   "file_extension": ".py",
   "mimetype": "text/x-python",
   "name": "python",
   "nbconvert_exporter": "python",
   "pygments_lexer": "ipython3",
   "version": "3.12.7"
  }
 },
 "nbformat": 4,
 "nbformat_minor": 2
}
